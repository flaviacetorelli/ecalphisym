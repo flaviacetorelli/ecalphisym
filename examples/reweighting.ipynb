{
 "cells": [
  {
   "cell_type": "code",
   "execution_count": 1,
   "id": "6e65f09e",
   "metadata": {},
   "outputs": [],
   "source": [
    "import os\n",
    "import awkward as ak\n",
    "import numpy as np\n",
    "import uproot\n",
    "from coffea.nanoevents import NanoEventsFactory\n",
    "from ecalphisym import EcalPhiSymSchema"
   ]
  },
  {
   "cell_type": "code",
   "execution_count": 2,
   "id": "cd584d38",
   "metadata": {},
   "outputs": [],
   "source": [
    "import matplotlib.pyplot as plt\n",
    "import mplhep\n",
    "%matplotlib inline\n",
    "plt.rc('font',**{'family':'sans-serif', 'sans-serif':['Helvetica'], 'size':'20'})\n",
    "plt.rcParams['figure.figsize'] = '10,10'\n",
    "plt.rcParams['xaxis.labellocation'] = 'right'\n",
    "plt.rcParams['yaxis.labellocation'] = 'top'\n",
    "plt.style.use(mplhep.style.ROOT)"
   ]
  },
  {
   "cell_type": "code",
   "execution_count": 3,
   "id": "caa5ae91",
   "metadata": {},
   "outputs": [],
   "source": [
    "# path to W/Z E/p - PhiSym \n",
    "runs = NanoEventsFactory.from_root('../Run2018D_test.root',\n",
    "                                   schemaclass=EcalPhiSymSchema,\n",
    "                                   treepath=\"/Runs\").events()\n",
    "eop = uproot.open('../EGamma-Run2018B-ZSkim-17Sep2018-v1-316998-319312.root:selected')"
   ]
  },
  {
   "cell_type": "code",
   "execution_count": 4,
   "id": "d263ea79",
   "metadata": {},
   "outputs": [],
   "source": [
    "counts = np.unique(runs.EcalPhiSymInfo.fill, return_index=True)[1]\n",
    "splits = np.diff(np.concatenate([counts, [len(runs.EcalPhiSymInfo.fill)]]))\n",
    "ebhits = ak.unflatten(runs.EcalPhiSymEB, splits, axis=0, behavior=runs.behavior).sum(axis=1)"
   ]
  },
  {
   "cell_type": "code",
   "execution_count": 5,
   "id": "54de0da7",
   "metadata": {},
   "outputs": [],
   "source": [
    "ak_eop = eop.arrays(filter_name = \"/charge|eta/\")"
   ]
  },
  {
   "cell_type": "code",
   "execution_count": 6,
   "id": "cc211f1e",
   "metadata": {
    "scrolled": true
   },
   "outputs": [],
   "source": [
    "# ieat histo phisym\n",
    "hist_phisym,bins =np.histogram(ak.to_numpy(ebhits.ieta[1,:]), weights=ak.to_numpy(ebhits.sumet[1,:]), \n",
    "           bins=171, range=[-85.5, 85.5])\n",
    "hist_phisym = np.delete(hist_phisym, 85)\n"
   ]
  },
  {
   "cell_type": "code",
   "execution_count": 7,
   "id": "a0807f6f",
   "metadata": {},
   "outputs": [],
   "source": [
    "# ieta histo eop\n",
    "hist_eop,bins =np.histogram(ak.to_numpy(ak.mask(ak_eop.etaEle[:,0], (ak_eop.chargeEle[:,0]  * ak_eop.chargeEle[:,1]  == 0)  , valid_when=False))/0.0175, bins=171, range=[-85.5, 85.5])\n",
    "hist_eop = np.delete(hist_eop, 85) \n"
   ]
  },
  {
   "cell_type": "code",
   "execution_count": 8,
   "id": "3059a40b",
   "metadata": {},
   "outputs": [],
   "source": [
    "weights = hist_eop/hist_phisym * (np.sum(hist_phisym) / np.sum(hist_eop) )"
   ]
  },
  {
   "cell_type": "code",
   "execution_count": 9,
   "id": "fc373412",
   "metadata": {},
   "outputs": [],
   "source": [
    "# save weights ordered from -85 to 85\n",
    "np.savetxt('weight.txt', weights, delimiter=',')   \n"
   ]
  }
 ],
 "metadata": {
  "kernelspec": {
   "display_name": "Python 3 (ipykernel)",
   "language": "python",
   "name": "python3"
  },
  "language_info": {
   "codemirror_mode": {
    "name": "ipython",
    "version": 3
   },
   "file_extension": ".py",
   "mimetype": "text/x-python",
   "name": "python",
   "nbconvert_exporter": "python",
   "pygments_lexer": "ipython3",
   "version": "3.9.7"
  }
 },
 "nbformat": 4,
 "nbformat_minor": 5
}
