{
 "cells": [
  {
   "cell_type": "code",
   "execution_count": 1,
   "id": "6e65f09e",
   "metadata": {},
   "outputs": [],
   "source": [
    "import os\n",
    "import awkward as ak\n",
    "import numpy as np\n",
    "import pandas as pd\n",
    "import uproot\n",
    "from coffea.nanoevents import NanoEventsFactory\n",
    "from ecalphisym import EcalPhiSymSchema"
   ]
  },
  {
   "cell_type": "code",
   "execution_count": 2,
   "id": "cd584d38",
   "metadata": {},
   "outputs": [],
   "source": [
    "import matplotlib.pyplot as plt\n",
    "import mplhep\n",
    "%matplotlib inline\n",
    "plt.rc('font',**{'family':'sans-serif', 'sans-serif':['Helvetica'], 'size':'20'})\n",
    "plt.rcParams['figure.figsize'] = '10,10'\n",
    "plt.rcParams['xaxis.labellocation'] = 'right'\n",
    "plt.rcParams['yaxis.labellocation'] = 'top'\n",
    "plt.style.use(mplhep.style.ROOT)"
   ]
  },
  {
   "cell_type": "code",
   "execution_count": 3,
   "id": "caa5ae91",
   "metadata": {},
   "outputs": [],
   "source": [
    "# path to W/Z E/p - PhiSym \n",
    "runs = NanoEventsFactory.from_root('../Run2018D_test.root',\n",
    "                                   schemaclass=EcalPhiSymSchema,\n",
    "                                   treepath=\"/Runs\").events()\n",
    "eop = uproot.open('../EGamma-Run2018B-ZSkim-17Sep2018-v1-316998-319312.root:selected')"
   ]
  },
  {
   "cell_type": "code",
   "execution_count": 5,
   "id": "d263ea79",
   "metadata": {},
   "outputs": [],
   "source": [
    "counts = np.unique(runs.EcalPhiSymInfo.fill, return_index=True)[1]\n",
    "splits = np.diff(np.concatenate([counts, [len(runs.EcalPhiSymInfo.fill)]]))\n",
    "ebhits = ak.unflatten(runs.EcalPhiSymEB, splits, axis=0, behavior=runs.behavior).sum(axis=1)"
   ]
  },
  {
   "cell_type": "code",
   "execution_count": 6,
   "id": "54de0da7",
   "metadata": {},
   "outputs": [],
   "source": [
    "ak_eop = eop.arrays(filter_name = \"/charge|eta/\")"
   ]
  },
  {
   "cell_type": "code",
   "execution_count": 7,
   "id": "cc211f1e",
   "metadata": {
    "scrolled": true
   },
   "outputs": [
    {
     "data": {
      "text/plain": [
       "array([6470558.5, 5913816.5, 5702504.5, 5431461. , 5247154.5, 5215110. ,\n",
       "       5062798.5, 5117713.5, 5032733. , 4983191.5, 4716124. , 4711281.5,\n",
       "       4754399. , 4913999.5, 4742408. , 4466268. , 4525836. , 4457386.5,\n",
       "       4479294.5, 5181097. , 4620260. , 4621286. , 4627073. , 4698097. ,\n",
       "       4797910. , 5059805. , 5145231. , 5126996.5, 5150545.5, 5151671. ,\n",
       "       4966093. , 5023423.5, 4994784.5, 5166894. , 5159892.5, 5233955. ,\n",
       "       5452878.5, 5442860.5, 5442160. , 6299220. , 5239514.5, 5291411.5,\n",
       "       5193469.5, 5258668.5, 5153777.5, 5265008.5, 5235277.5, 5145459.5,\n",
       "       5181328. , 5071901. , 5615727. , 4936528.5, 4968877. , 4832296.5,\n",
       "       4943717.5, 4722284. , 4813020. , 4808355. , 4813853. , 5311121.5,\n",
       "       4667952. , 4642310. , 4691297.5, 4689237. , 4636837.5, 4534372.5,\n",
       "       4527644. , 4539809. , 4519824. , 4529935. , 4503815.5, 4630869. ,\n",
       "       4681728. , 4782128.5, 4791029.5, 4665299. , 4700452.5, 4702800. ,\n",
       "       4613416.5, 4610139.5, 4844667. , 4908736.5, 4876260. , 4906508.5,\n",
       "       4971147. , 5078968.5, 4939045. , 4866264.5, 4908897.5, 4800262. ,\n",
       "       4586955. , 4638919. , 4628121.5, 4712907.5, 4672008. , 4829163.5,\n",
       "       4789415. , 4724263.5, 4670514. , 4556644. , 4604586. , 4540444. ,\n",
       "       4586273.5, 4649966. , 4563295. , 4671095.5, 4673093. , 4639236. ,\n",
       "       4703132. , 4702443.5, 5453675. , 4881824. , 4927601.5, 4921770.5,\n",
       "       4945315.5, 5010804.5, 4897173.5, 4945483.5, 4997659.5, 4991014.5,\n",
       "       5120637. , 5086083. , 5153546. , 5184740. , 5214440. , 5346423.5,\n",
       "       5327068.5, 5424067. , 5457648. , 5371383. , 6368017. , 5534614.5,\n",
       "       5427345.5, 5481245. , 5293894. , 5085436. , 5076008. , 5034369. ,\n",
       "       4994082. , 4990468.5, 5081466.5, 5170550.5, 5192641. , 5158739. ,\n",
       "       5113619. , 4960739. , 4732106.5, 4622525.5, 4705183. , 4579443. ,\n",
       "       5226304.5, 4610181. , 4613755. , 4750254. , 4684668. , 4645985.5,\n",
       "       4753132.5, 4793820. , 4827273.5, 4851075.5, 5011231.5, 5180035.5,\n",
       "       5358824. , 5397779.5, 5340963. , 5291726.5, 5499693.5, 5710595.5,\n",
       "       5976494.5, 6730686.5], dtype=float32)"
      ]
     },
     "execution_count": 7,
     "metadata": {},
     "output_type": "execute_result"
    }
   ],
   "source": [
    "# ieat histo phisym\n",
    "hist_phisym,bins =np.histogram(ak.to_numpy(ebhits.ieta[1,:]), weights=ak.to_numpy(ebhits.sumet[1,:]), \n",
    "           bins=171, range=[-85.5, 85.5])\n",
    "hist_phisym = np.delete(hist_phisym, 85)\n",
    "hist_phisym\n"
   ]
  },
  {
   "cell_type": "code",
   "execution_count": 8,
   "id": "a0807f6f",
   "metadata": {},
   "outputs": [
    {
     "data": {
      "text/plain": [
       "array([ 2694,  9004, 12889, 13427, 13329, 13446, 13573, 13607, 13697,\n",
       "       13518, 13442, 13635, 13753, 14156, 14386, 14373, 14517, 14803,\n",
       "       14738, 14078, 12885, 14331, 15477, 15925, 16201, 16279, 16421,\n",
       "       16567, 16814, 16484, 16686, 16575, 16613, 16616, 17083, 16817,\n",
       "       16967, 17339, 16885, 16186, 15473, 15879, 16797, 17520, 17487,\n",
       "       17850, 18179, 18139, 18481, 18409, 18524, 18648, 18654, 18815,\n",
       "       18420, 18889, 18452, 18387, 18320, 17532, 17325, 17894, 18609,\n",
       "       19303, 19043, 19089, 18911, 18591, 19184, 19130, 19115, 19095,\n",
       "       19021, 19139, 19178, 19021, 19283, 19109, 19190, 18955, 19000,\n",
       "       18947, 18921, 18044, 17027, 16788, 18514, 19694, 19413, 19436,\n",
       "       19171, 19149, 19126, 19479, 19384, 19595, 19431, 19392, 19351,\n",
       "       19207, 19202, 19276, 19161, 19258, 19268, 18991, 19217, 18929,\n",
       "       18434, 17794, 17984, 18999, 18935, 18859, 18756, 18838, 18852,\n",
       "       18889, 18535, 18689, 18736, 18368, 18448, 18438, 18206, 18093,\n",
       "       18031, 17936, 16766, 16000, 16597, 17459, 17689, 17527, 17144,\n",
       "       16723, 16719, 16712, 16622, 16659, 16639, 16580, 16640, 16039,\n",
       "       16147, 15868, 15435, 15333, 14134, 12860, 13852, 14948, 14669,\n",
       "       14740, 14548, 14126, 13769, 14209, 14028, 13769, 13573, 13677,\n",
       "       13571, 13451, 13215, 12927, 12931, 12762,  9541,  2915],\n",
       "      dtype=int64)"
      ]
     },
     "execution_count": 8,
     "metadata": {},
     "output_type": "execute_result"
    }
   ],
   "source": [
    "# ieat histo phisym\n",
    "hist_eop,bins =np.histogram(ak.to_numpy(ak.mask(ak_eop.etaEle[:,0], (ak_eop.chargeEle[:,0]  * ak_eop.chargeEle[:,1]  == 0)  , valid_when=False))/0.0175, bins=171, range=[-85.5, 85.5])\n",
    "hist_eop = np.delete(hist_eop, 85)\n",
    "hist_eop"
   ]
  },
  {
   "cell_type": "code",
   "execution_count": 9,
   "id": "80f07608",
   "metadata": {},
   "outputs": [],
   "source": [
    "w = hist_eop/hist_phisym * (np.sum(hist_phisym) / np.sum(hist_eop) )"
   ]
  },
  {
   "cell_type": "code",
   "execution_count": 10,
   "id": "ff3dd871",
   "metadata": {},
   "outputs": [],
   "source": [
    "# save weights\n",
    "np.savetxt('weight.txt', w, delimiter=',')   "
   ]
  }
 ],
 "metadata": {
  "kernelspec": {
   "display_name": "Python 3 (ipykernel)",
   "language": "python",
   "name": "python3"
  },
  "language_info": {
   "codemirror_mode": {
    "name": "ipython",
    "version": 3
   },
   "file_extension": ".py",
   "mimetype": "text/x-python",
   "name": "python",
   "nbconvert_exporter": "python",
   "pygments_lexer": "ipython3",
   "version": "3.9.7"
  }
 },
 "nbformat": 4,
 "nbformat_minor": 5
}
